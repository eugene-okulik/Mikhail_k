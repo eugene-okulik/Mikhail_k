{
 "cells": [
  {
   "cell_type": "code",
   "execution_count": 24,
   "metadata": {},
   "outputs": [
    {
     "name": "stdout",
     "output_type": "stream",
     "text": [
      "{'tuple': ('1', None, 'text', False, 4.5), 'list': [5, 'text', '6', True, 3.56], 'dict': {'key1': 45, 'key2': 3.15, 'key3': True, 'key4': 'text', 'key5': [1, 2, 3]}, 'set': {(2, 3), 1, 3.65, 'text', 'banana'}}\n",
      "Last elemet: 4.5\n",
      "{'tuple': ('1', None, 'text', False, 4.5), 'list': [5, 'text', '6', True, 3.56, 'new_element'], 'dict': {'key1': 45, 'key2': 3.15, 'key3': True, 'key4': 'text', 'key5': [1, 2, 3]}, 'set': {(2, 3), 1, 3.65, 'text', 'banana'}}\n",
      "{'tuple': ('1', None, 'text', False, 4.5), 'list': [5, '6', True, 3.56, 'new_element'], 'dict': {'key1': 45, 'key2': 3.15, 'key3': True, 'key4': 'text', 'key5': [1, 2, 3]}, 'set': {(2, 3), 1, 3.65, 'text', 'banana'}}\n",
      "{'tuple': ('1', None, 'text', False, 4.5), 'list': [5, '6', True, 3.56, 'new_element'], 'dict': {'key1': 45, 'key2': 3.15, 'key3': True, 'key4': 'text', 'key5': [1, 2, 3], 'i am tuple': '2333'}, 'set': {(2, 3), 1, 3.65, 'text', 'banana'}}\n",
      "{'tuple': ('1', None, 'text', False, 4.5), 'list': [5, '6', True, 3.56, 'new_element'], 'dict': {'key2': 3.15, 'key3': True, 'key4': 'text', 'key5': [1, 2, 3], 'i am tuple': '2333'}, 'set': {(2, 3), 1, 3.65, 'text', 'banana'}}\n",
      "{'tuple': ('1', None, 'text', False, 4.5), 'list': [5, '6', True, 3.56, 'new_element'], 'dict': {'key2': 3.15, 'key3': True, 'key4': 'text', 'key5': [1, 2, 3], 'i am tuple': '2333'}, 'set': {(2, 3), 1, 'new_elemento', 3.65, 'text', 'banana'}}\n",
      "{'tuple': ('1', None, 'text', False, 4.5), 'list': [5, '6', True, 3.56, 'new_element'], 'dict': {'key2': 3.15, 'key3': True, 'key4': 'text', 'key5': [1, 2, 3], 'i am tuple': '2333'}, 'set': {(2, 3), 1, 'new_elemento', 3.65, 'banana'}}\n",
      "Result:  {'tuple': ('1', None, 'text', False, 4.5), 'list': [5, '6', True, 3.56, 'new_element'], 'dict': {'key2': 3.15, 'key3': True, 'key4': 'text', 'key5': [1, 2, 3], 'i am tuple': '2333'}, 'set': {(2, 3), 1, 'new_elemento', 3.65, 'banana'}}\n"
     ]
    }
   ],
   "source": [
    "my_dict = {'tuple': ('1', None, 'text', False, 4.5), 'list': [5, 'text', '6', True, 3.56], 'dict': {'key1': 45, 'key2': 3.15, 'key3': True, 'key4': 'text', 'key5': [1, 2, 3]}, 'set': {1, 'text', 3.65, (2, 3), 'banana'}}\n",
    "print(my_dict)\n",
    "\n",
    "print(\"Last elemet:\", my_dict['tuple'][-1])\n",
    "\n",
    "my_dict['list'].append('new_element')\n",
    "print(my_dict)\n",
    "\n",
    "del my_dict['list'][1]\n",
    "print(my_dict)\n",
    "\n",
    "my_dict['dict']['i am tuple'] = '2333'\n",
    "print(my_dict)\n",
    "\n",
    "my_dict['dict'].pop('key1')\n",
    "print(my_dict)\n",
    "\n",
    "my_dict['set'].add('new_elemento')\n",
    "print(my_dict)\n",
    "\n",
    "my_dict['set'].discard('text')\n",
    "print(my_dict)\n",
    "\n",
    "print(\"Result: \", my_dict)"
   ]
  }
 ],
 "metadata": {
  "kernelspec": {
   "display_name": "Python 3",
   "language": "python",
   "name": "python3"
  },
  "language_info": {
   "codemirror_mode": {
    "name": "ipython",
    "version": 3
   },
   "file_extension": ".py",
   "mimetype": "text/x-python",
   "name": "python",
   "nbconvert_exporter": "python",
   "pygments_lexer": "ipython3",
   "version": "3.11.9"
  }
 },
 "nbformat": 4,
 "nbformat_minor": 2
}
